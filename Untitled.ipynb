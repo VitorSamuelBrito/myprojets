{
 "cells": [
  {
   "cell_type": "code",
   "execution_count": 1,
   "id": "351d7ff2",
   "metadata": {},
   "outputs": [],
   "source": [
    "import numpy as np"
   ]
  },
  {
   "cell_type": "code",
   "execution_count": 2,
   "id": "2ba3b166",
   "metadata": {},
   "outputs": [
    {
     "name": "stdout",
     "output_type": "stream",
     "text": [
      "[[0.00055225 0.00045156 0.00041006 0.00037249 0.00033306]]\n"
     ]
    }
   ],
   "source": [
    "def calculate(val_1, val_2):\n",
    "    median = []\n",
    "    median.append((val_1+val_2)/2)\n",
    "    median = np.asarray(median)\n",
    "    \n",
    "    raio = median**2\n",
    "    return raio\n",
    "\n",
    "vl_1 = [0.0225,0.0205,0.0195,0.0181,0.017]\n",
    "vl_1 = np.asarray(vl_1)\n",
    "\n",
    "vl_2 = [0.0245,0.022,0.021,0.0205,0.0195]\n",
    "vl_2 = np.asarray(vl_2)\n",
    "\n",
    "raios = calculate(vl_1, vl_2)\n",
    "\n",
    "print(raios)"
   ]
  },
  {
   "cell_type": "code",
   "execution_count": 3,
   "id": "d030097c",
   "metadata": {},
   "outputs": [
    {
     "name": "stdout",
     "output_type": "stream",
     "text": [
      "(array([[1.28790737e-10, 1.31862153e-10, 1.29436898e-10, 1.28041146e-10,\n",
      "        1.28459210e-10]]), 1.315905359886425e-10) 1.2931802899669192e-10 1.726953215044834\n"
     ]
    }
   ],
   "source": [
    "def distancia(R, U, m, e, L, h):\n",
    "    d_exp = np.sqrt((L**2*h**2)/(2*m*e*R*U))\n",
    "    \n",
    "    d_graf = np.sqrt((L**2*h**2)/(2*m*e*1.587))\n",
    "    \n",
    "    return  d_exp, d_graf\n",
    "\n",
    "U = [3000,3500,4000,4500,5000] \n",
    "m = 9.11*10**-31\n",
    "e = 1.6*10**-19\n",
    "L = 0.135\n",
    "h = 6.63*10**-34\n",
    "\n",
    "value_d = distancia(raios, U, m, e, L, h)\n",
    "\n",
    "media = np.average(value_d[0])   \n",
    "\n",
    "def percentual(X, x):\n",
    "    if X > x:\n",
    "        df = ((X-x)/X)*100\n",
    "    else:\n",
    "        df = ((x-X)/x)*100\n",
    "    return df\n",
    "\n",
    "dfp = percentual(media, value_d[1])\n",
    "\n",
    "print(value_d, media, dfp)"
   ]
  },
  {
   "cell_type": "code",
   "execution_count": 24,
   "id": "e6553c18",
   "metadata": {},
   "outputs": [
    {
     "name": "stdout",
     "output_type": "stream",
     "text": [
      "0.605713190939673 0.011006481644373674\n"
     ]
    }
   ],
   "source": [
    "def distancia(m, e, L, h, d):\n",
    "    a = (L**2*h**2)/(2*m*e*d**2)\n",
    "    return a\n",
    "\n",
    "d = 0.213*10**-9\n",
    "\n",
    "a_ideal = distancia(m, e, L, h, d)\n",
    "\n",
    "def raio_ideal(d, U, m, e, L, h):\n",
    "    R = np.sqrt((L**2*h**2)/(2*m*e*U*d**2))\n",
    "    return R\n",
    "\n",
    "r_ideal = raio_ideal(d, 5000, m, e, L, h)\n",
    "\n",
    "print(a_ideal, r_ideal)"
   ]
  },
  {
   "cell_type": "code",
   "execution_count": 5,
   "id": "22900682",
   "metadata": {},
   "outputs": [
    {
     "name": "stdout",
     "output_type": "stream",
     "text": [
      "39.28731033019158\n"
     ]
    }
   ],
   "source": [
    "dfp_t = percentual(media, 2.13*10**-10)\n",
    "\n",
    "print(dfp_t)"
   ]
  },
  {
   "cell_type": "code",
   "execution_count": 22,
   "id": "16fafee7",
   "metadata": {},
   "outputs": [
    {
     "name": "stdout",
     "output_type": "stream",
     "text": [
      "(array([4.63170732e-10, 7.71951220e-10, 7.71951220e-10, 1.35091463e-09,\n",
      "       3.08780488e-09]), array([1.00000463, 1.00001544, 1.00002316, 1.00005404, 1.00015439])) 1.0000503312195121\n"
     ]
    }
   ],
   "source": [
    "def calculate(lamb, dm, lz, dp, p):\n",
    "    delta = (lamb*dm)/(2*lz*dp)\n",
    "    np = 1+delta*p\n",
    "    return delta, np\n",
    "\n",
    "def delta(i, f):\n",
    "    dlt = f-i\n",
    "    return dlt\n",
    "\n",
    "vl = [-10000,-20000,-30000,-40000,-50000]\n",
    "vl = np.asarray(vl)\n",
    "\n",
    "dm = [3,4,3,3.5,4]\n",
    "dm = np.asarray(dm)\n",
    "\n",
    "dim = 5\n",
    "delp = []\n",
    "\n",
    "for i in range(int(dim)):\n",
    "    delp.append(delta(-60000, vl[0+i]))\n",
    "\n",
    "delp = np.asarray(delp)\n",
    "\n",
    "values = calculate(633*10**(-9),dm,0.041,delp,-1*vl)\n",
    "\n",
    "media = (sum(values[1]))/len(values[1])\n",
    "\n",
    "print(values, media)"
   ]
  },
  {
   "cell_type": "code",
   "execution_count": 23,
   "id": "9ff72274",
   "metadata": {},
   "outputs": [
    {
     "data": {
      "text/plain": [
       "-0.023965671827286122"
      ]
     },
     "execution_count": 23,
     "metadata": {},
     "output_type": "execute_result"
    }
   ],
   "source": [
    "diferença(media, 1.00029)"
   ]
  }
 ],
 "metadata": {
  "kernelspec": {
   "display_name": "Python 3 (ipykernel)",
   "language": "python",
   "name": "python3"
  },
  "language_info": {
   "codemirror_mode": {
    "name": "ipython",
    "version": 3
   },
   "file_extension": ".py",
   "mimetype": "text/x-python",
   "name": "python",
   "nbconvert_exporter": "python",
   "pygments_lexer": "ipython3",
   "version": "3.9.13"
  }
 },
 "nbformat": 4,
 "nbformat_minor": 5
}
