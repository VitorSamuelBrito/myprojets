{
 "cells": [
  {
   "cell_type": "code",
   "execution_count": 1,
   "id": "9b4eb6d1-3fc7-4edf-8180-f39b39fcd3a6",
   "metadata": {},
   "outputs": [],
   "source": [
    "## importing bibliotecs \n",
    "import numpy as np"
   ]
  },
  {
   "cell_type": "code",
   "execution_count": 2,
   "id": "b972a546-413d-4cd9-9850-20800f3cd06e",
   "metadata": {},
   "outputs": [
    {
     "name": "stdout",
     "output_type": "stream",
     "text": [
      "This code generates the standard deviation value when entering data into it.\n",
      "It also provides the value of the percentage difference between the expected value and the actual value.\n"
     ]
    }
   ],
   "source": [
    "## code instructions\n",
    "\n",
    "print('This code generates the standard deviation value when entering data into it.') \n",
    "print('It also provides the value of the percentage difference between the expected value and the actual value.')"
   ]
  },
  {
   "cell_type": "code",
   "execution_count": 3,
   "id": "3e0d2268-b8be-4052-83ef-456696c099d9",
   "metadata": {},
   "outputs": [],
   "source": [
    "def func(U, R, B):\n",
    "    Rz = (2*U)/(R**2*B**2)\n",
    "    return Rz"
   ]
  },
  {
   "cell_type": "code",
   "execution_count": 8,
   "id": "83f37e32-897b-4589-b87f-7119c2b169f4",
   "metadata": {},
   "outputs": [
    {
     "name": "stdout",
     "output_type": "stream",
     "text": [
      "[524901318552.11206, 548696844993.14105, 427697370672.0914, 319939851307.954, 179219778903.78827, 167968421936.67584] 361403931060.9604\n"
     ]
    }
   ],
   "source": [
    "Tensao = [60,98,110,112,118,120]\n",
    "Raio = [0.020, 0.025, 0.030, 0.035, 0.048, 0.050]\n",
    "dim = len(Tensao)\n",
    "\n",
    "B = (0.756*10**-3)*1\n",
    "\n",
    "result = []\n",
    "\n",
    "for i in range(dim):\n",
    "    result.append(func(Tensao[i], Raio[i], B))\n",
    "\n",
    "M = np.mean(result)\n",
    "\n",
    "print(result, M)"
   ]
  },
  {
   "cell_type": "code",
   "execution_count": 3,
   "id": "831eee81-16fe-45e4-b562-7bf59948a8c2",
   "metadata": {},
   "outputs": [],
   "source": [
    "## standard deviation\n",
    "def DesvioP(N, M, i):\n",
    "    S = np.sqrt(np.sum((M - i)**2) / (N - 1)) \n",
    "    return S\n",
    "\n",
    "def DifPer(X, x):\n",
    "    Dp = ((X - x)/X)*100\n",
    "    return Dp"
   ]
  },
  {
   "cell_type": "code",
   "execution_count": 4,
   "id": "f9262fc0-f348-4c41-a2b8-0a6dff06d107",
   "metadata": {},
   "outputs": [
    {
     "name": "stdin",
     "output_type": "stream",
     "text": [
      "Enter the number of elements:  5\n",
      "Enter the value reference real:  633\n"
     ]
    },
    {
     "name": "stdout",
     "output_type": "stream",
     "text": [
      "M (Average): 660.5719999999999\n",
      "i (Values): [618.   686.66 721.   659.2  618.  ]\n"
     ]
    }
   ],
   "source": [
    "## data\n",
    "vl = np.genfromtxt('dados', dtype= float) #delimiter= None)\n",
    "\n",
    "N = float(input(\"Enter the number of elements: \"))\n",
    "X = float(input(\"Enter the value reference real: \"))\n",
    "i = np.zeros(int(N))\n",
    "\n",
    "for k in range(int(N)):\n",
    "    # print(k)\n",
    "     i[k]= vl[k]\n",
    "\n",
    "M = np.mean(i)\n",
    "\n",
    "print(\"M (Average):\", M)\n",
    "print(\"i (Values):\", i)"
   ]
  },
  {
   "cell_type": "code",
   "execution_count": 5,
   "id": "bf113986-6dd1-458f-8cbf-06260104f1a6",
   "metadata": {},
   "outputs": [
    {
     "name": "stdout",
     "output_type": "stream",
     "text": [
      "Standard deviation is: 44.60594041156401\n",
      "Percentage difference is: -4.355766192732999 %\n"
     ]
    }
   ],
   "source": [
    "## Calculating standard deviation\n",
    "std = DesvioP(N, M, i)\n",
    "Dfp = DifPer(X, M)\n",
    "\n",
    "print(\"Standard deviation is:\", std)\n",
    "print(\"Percentage difference is:\", Dfp, '%')"
   ]
  }
 ],
 "metadata": {
  "kernelspec": {
   "display_name": "Python 3 (ipykernel)",
   "language": "python",
   "name": "python3"
  },
  "language_info": {
   "codemirror_mode": {
    "name": "ipython",
    "version": 3
   },
   "file_extension": ".py",
   "mimetype": "text/x-python",
   "name": "python",
   "nbconvert_exporter": "python",
   "pygments_lexer": "ipython3",
   "version": "3.10.9"
  }
 },
 "nbformat": 4,
 "nbformat_minor": 5
}
