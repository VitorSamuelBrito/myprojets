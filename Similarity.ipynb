{
 "cells": [
  {
   "cell_type": "code",
   "execution_count": 59,
   "id": "940f40af",
   "metadata": {},
   "outputs": [],
   "source": [
    "from difflib import SequenceMatcher\n",
    "# from PyPDF2 import PdfReader\n",
    "# import re\n",
    "# import os"
   ]
  },
  {
   "cell_type": "code",
   "execution_count": 44,
   "id": "36ff33d4",
   "metadata": {},
   "outputs": [],
   "source": [
    "t1 = ''\n",
    "t2 = ''\n",
    "# tn = ''"
   ]
  },
  {
   "cell_type": "code",
   "execution_count": 80,
   "id": "56e49df6",
   "metadata": {},
   "outputs": [
    {
     "name": "stdout",
     "output_type": "stream",
     "text": [
      "texto6.txt\n",
      "Trabalho_3.txt\n"
     ]
    }
   ],
   "source": [
    "with open(input()) as arq1:\n",
    "    t1 = arq1.read()\n",
    "\n",
    "with open(input()) as arq2:\n",
    "    t2 = arq2.read()"
   ]
  },
  {
   "cell_type": "code",
   "execution_count": 81,
   "id": "58690f4e",
   "metadata": {},
   "outputs": [
    {
     "name": "stdout",
     "output_type": "stream",
     "text": [
      "Os textos tem similaridade de 2.422211584490187 %\n"
     ]
    }
   ],
   "source": [
    "Similaridade = SequenceMatcher(None, t1, t2).ratio()\n",
    "similari = Similaridade*100\n",
    "\n",
    "print(\"Os textos tem similaridade de\", similari, \"%\")"
   ]
  },
  {
   "cell_type": "code",
   "execution_count": null,
   "id": "032e5ad4",
   "metadata": {},
   "outputs": [],
   "source": []
  }
 ],
 "metadata": {
  "kernelspec": {
   "display_name": "Python 3 (ipykernel)",
   "language": "python",
   "name": "python3"
  },
  "language_info": {
   "codemirror_mode": {
    "name": "ipython",
    "version": 3
   },
   "file_extension": ".py",
   "mimetype": "text/x-python",
   "name": "python",
   "nbconvert_exporter": "python",
   "pygments_lexer": "ipython3",
   "version": "3.10.9"
  }
 },
 "nbformat": 4,
 "nbformat_minor": 5
}
