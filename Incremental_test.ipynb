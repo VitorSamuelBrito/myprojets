{
 "cells": [
  {
   "cell_type": "code",
   "execution_count": 4,
   "id": "b6152e9d",
   "metadata": {},
   "outputs": [],
   "source": [
    "import numpy as np\n",
    "import pandas as pd"
   ]
  },
  {
   "cell_type": "code",
   "execution_count": 41,
   "id": "3689cf54",
   "metadata": {},
   "outputs": [],
   "source": [
    "with open('arquivo.txt', 'w') as arquivo:\n",
    "    for i in range(1, 11):\n",
    "        linha = f'Esta é a linha {i}\\n'\n",
    "        arquivo.write(linha)"
   ]
  },
  {
   "cell_type": "code",
   "execution_count": 56,
   "id": "546cf967",
   "metadata": {},
   "outputs": [
    {
     "name": "stdout",
     "output_type": "stream",
     "text": [
      "Escrita concluída em arquivo.txt\n"
     ]
    }
   ],
   "source": [
    "STEPS = 100\n",
    "\n",
    "E = 3\n",
    "q = 0.005\n",
    "v = 1.5\n",
    "dt = 0.01\n",
    "H = 0\n",
    "\n",
    "with open('arquivo.txt', 'a') as arquivo:\n",
    "    for i in range(1, int(STEPS) + 1):\n",
    "        H += -E + q * v\n",
    "\n",
    "        if i % 100 == 0:  # Salvar a cada 100 iterações\n",
    "            T = dt * i\n",
    "            linha = f\"{H}\\n\"\n",
    "            arquivo.write(linha)\n",
    "\n",
    "print(\"Escrita concluída em arquivo.txt\")"
   ]
  },
  {
   "cell_type": "code",
   "execution_count": 47,
   "id": "a515d2eb",
   "metadata": {},
   "outputs": [
    {
     "name": "stdout",
     "output_type": "stream",
     "text": [
      "1.0\n"
     ]
    }
   ],
   "source": [
    "print(dt*100\n",
    "     )"
   ]
  },
  {
   "cell_type": "code",
   "execution_count": null,
   "id": "6a81497b",
   "metadata": {},
   "outputs": [],
   "source": []
  }
 ],
 "metadata": {
  "kernelspec": {
   "display_name": "Python 3 (ipykernel)",
   "language": "python",
   "name": "python3"
  },
  "language_info": {
   "codemirror_mode": {
    "name": "ipython",
    "version": 3
   },
   "file_extension": ".py",
   "mimetype": "text/x-python",
   "name": "python",
   "nbconvert_exporter": "python",
   "pygments_lexer": "ipython3",
   "version": "3.9.13"
  }
 },
 "nbformat": 4,
 "nbformat_minor": 5
}
